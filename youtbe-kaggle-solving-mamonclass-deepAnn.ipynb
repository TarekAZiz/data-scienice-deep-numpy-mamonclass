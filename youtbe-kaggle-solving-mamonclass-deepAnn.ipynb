{
 "cells": [
  {
   "cell_type": "markdown",
   "metadata": {},
   "source": [
    "hello , iraq bagdata group\n",
    "السلام عليكم  \n",
    "على وعدنا اليوم نصور اول فيديو عربي يشرح  اساسيات الداتا ساينز\n",
    "شنو الي راح نسوي اليوم\n",
    "1- نتعرف على  kaggle\n",
    "2- نزل داتا ست من كاجيل\n",
    "3- نشوف شون نحلل البيانات\n",
    "4- نشغل تعلم عميق نورال نيتورك على البيانات ونشوف شيطلع بيدنا\n",
    "\n",
    "خلي نبلش\n",
    "kaggle    اشرتها قوقول\n",
    "تمثل منصة للشركات تعرض بياناتها يحللوها علماء البيانات الي ان شاء الله تكون انت احدهم مستقبلا\n",
    "وتحاول تحل مشاكل علمية عملية\n",
    "\n",
    "اول واهم داتا سيت تستخدمها كمبتديء هيه مشكلة التايتنك\n",
    "راح تتعلم منها كل الاساسيات وبنفس الوقت المشكلة واقعه بدومين عام ماكو واحد بينا مايعرف قصة التايتنك\n",
    "\n",
    "خل نشوف\n",
    "سبق ومنزل الداتا خل نشوف شنسوي"
   ]
  },
  {
   "cell_type": "code",
   "execution_count": 1,
   "metadata": {
    "collapsed": true
   },
   "outputs": [],
   "source": [
    "import numpy as np\n",
    "import matplotlib.pyplot as plt\n",
    "import pandas as pd"
   ]
  },
  {
   "cell_type": "code",
   "execution_count": 2,
   "metadata": {
    "collapsed": false
   },
   "outputs": [
    {
     "data": {
      "text/html": [
       "<div>\n",
       "<table border=\"1\" class=\"dataframe\">\n",
       "  <thead>\n",
       "    <tr style=\"text-align: right;\">\n",
       "      <th></th>\n",
       "      <th>PassengerId</th>\n",
       "      <th>Survived</th>\n",
       "      <th>Pclass</th>\n",
       "      <th>Name</th>\n",
       "      <th>Sex</th>\n",
       "      <th>Age</th>\n",
       "      <th>SibSp</th>\n",
       "      <th>Parch</th>\n",
       "      <th>Ticket</th>\n",
       "      <th>Fare</th>\n",
       "      <th>Cabin</th>\n",
       "      <th>Embarked</th>\n",
       "    </tr>\n",
       "  </thead>\n",
       "  <tbody>\n",
       "    <tr>\n",
       "      <th>0</th>\n",
       "      <td>1</td>\n",
       "      <td>0</td>\n",
       "      <td>3</td>\n",
       "      <td>Braund, Mr. Owen Harris</td>\n",
       "      <td>male</td>\n",
       "      <td>22.0</td>\n",
       "      <td>1</td>\n",
       "      <td>0</td>\n",
       "      <td>A/5 21171</td>\n",
       "      <td>7.2500</td>\n",
       "      <td>NaN</td>\n",
       "      <td>S</td>\n",
       "    </tr>\n",
       "    <tr>\n",
       "      <th>1</th>\n",
       "      <td>2</td>\n",
       "      <td>1</td>\n",
       "      <td>1</td>\n",
       "      <td>Cumings, Mrs. John Bradley (Florence Briggs Th...</td>\n",
       "      <td>female</td>\n",
       "      <td>38.0</td>\n",
       "      <td>1</td>\n",
       "      <td>0</td>\n",
       "      <td>PC 17599</td>\n",
       "      <td>71.2833</td>\n",
       "      <td>C85</td>\n",
       "      <td>C</td>\n",
       "    </tr>\n",
       "    <tr>\n",
       "      <th>2</th>\n",
       "      <td>3</td>\n",
       "      <td>1</td>\n",
       "      <td>3</td>\n",
       "      <td>Heikkinen, Miss. Laina</td>\n",
       "      <td>female</td>\n",
       "      <td>26.0</td>\n",
       "      <td>0</td>\n",
       "      <td>0</td>\n",
       "      <td>STON/O2. 3101282</td>\n",
       "      <td>7.9250</td>\n",
       "      <td>NaN</td>\n",
       "      <td>S</td>\n",
       "    </tr>\n",
       "    <tr>\n",
       "      <th>3</th>\n",
       "      <td>4</td>\n",
       "      <td>1</td>\n",
       "      <td>1</td>\n",
       "      <td>Futrelle, Mrs. Jacques Heath (Lily May Peel)</td>\n",
       "      <td>female</td>\n",
       "      <td>35.0</td>\n",
       "      <td>1</td>\n",
       "      <td>0</td>\n",
       "      <td>113803</td>\n",
       "      <td>53.1000</td>\n",
       "      <td>C123</td>\n",
       "      <td>S</td>\n",
       "    </tr>\n",
       "    <tr>\n",
       "      <th>4</th>\n",
       "      <td>5</td>\n",
       "      <td>0</td>\n",
       "      <td>3</td>\n",
       "      <td>Allen, Mr. William Henry</td>\n",
       "      <td>male</td>\n",
       "      <td>35.0</td>\n",
       "      <td>0</td>\n",
       "      <td>0</td>\n",
       "      <td>373450</td>\n",
       "      <td>8.0500</td>\n",
       "      <td>NaN</td>\n",
       "      <td>S</td>\n",
       "    </tr>\n",
       "  </tbody>\n",
       "</table>\n",
       "</div>"
      ],
      "text/plain": [
       "   PassengerId  Survived  Pclass  \\\n",
       "0            1         0       3   \n",
       "1            2         1       1   \n",
       "2            3         1       3   \n",
       "3            4         1       1   \n",
       "4            5         0       3   \n",
       "\n",
       "                                                Name     Sex   Age  SibSp  \\\n",
       "0                            Braund, Mr. Owen Harris    male  22.0      1   \n",
       "1  Cumings, Mrs. John Bradley (Florence Briggs Th...  female  38.0      1   \n",
       "2                             Heikkinen, Miss. Laina  female  26.0      0   \n",
       "3       Futrelle, Mrs. Jacques Heath (Lily May Peel)  female  35.0      1   \n",
       "4                           Allen, Mr. William Henry    male  35.0      0   \n",
       "\n",
       "   Parch            Ticket     Fare Cabin Embarked  \n",
       "0      0         A/5 21171   7.2500   NaN        S  \n",
       "1      0          PC 17599  71.2833   C85        C  \n",
       "2      0  STON/O2. 3101282   7.9250   NaN        S  \n",
       "3      0            113803  53.1000  C123        S  \n",
       "4      0            373450   8.0500   NaN        S  "
      ]
     },
     "execution_count": 2,
     "metadata": {},
     "output_type": "execute_result"
    }
   ],
   "source": [
    "DataSet = pd.read_csv('train.csv')\n",
    "\n",
    "DataSet.head()"
   ]
  },
  {
   "cell_type": "markdown",
   "metadata": {},
   "source": [
    "نعزل الواي نخلي بيه اليبلات ونعزل الاكس بي الفيشر الي نضن انو هيه مهمه\n",
    "زين شون حنعرف هيه مهمه\n",
    "هنا يدخل شي اسمه هندسة الخصائص\n",
    "بس حسوي شي بسيط  حتى  نفهم شويا عن البيانات\n",
    "لكن بشكل عام تحتاج تقرا الداتا زين وتفهمها حتى تختار افضل الخصائص كلما الخصائص  مضبوطة كلما نتائج التخمين \n",
    "للمودل مالتك تكون ادق"
   ]
  },
  {
   "cell_type": "code",
   "execution_count": 3,
   "metadata": {
    "collapsed": false
   },
   "outputs": [
    {
     "data": {
      "text/plain": [
       "0"
      ]
     },
     "execution_count": 3,
     "metadata": {},
     "output_type": "execute_result"
    }
   ],
   "source": [
    "Y = DataSet.iloc[:,1].values\n",
    "Y[0]"
   ]
  },
  {
   "cell_type": "code",
   "execution_count": 7,
   "metadata": {
    "collapsed": false
   },
   "outputs": [
    {
     "data": {
      "text/plain": [
       "array([3, 'male', 22.0], dtype=object)"
      ]
     },
     "execution_count": 7,
     "metadata": {},
     "output_type": "execute_result"
    }
   ],
   "source": [
    "# i will take now for test age and pclass and see its effact\n",
    "X = DataSet.iloc[:,[2 , 4 , 5]].values\n",
    "X[0]"
   ]
  },
  {
   "cell_type": "code",
   "execution_count": 8,
   "metadata": {
    "collapsed": false
   },
   "outputs": [
    {
     "data": {
      "text/plain": [
       "array([[3, 1, 22.0],\n",
       "       [1, 0, 38.0],\n",
       "       [3, 0, 26.0],\n",
       "       ..., \n",
       "       [3, 0, nan],\n",
       "       [1, 1, 26.0],\n",
       "       [3, 1, 32.0]], dtype=object)"
      ]
     },
     "execution_count": 8,
     "metadata": {},
     "output_type": "execute_result"
    }
   ],
   "source": [
    "from sklearn.preprocessing import LabelEncoder \n",
    "\n",
    "labels_x = LabelEncoder()\n",
    "X[:,1] = labels_x.fit_transform(X[:,1])\n",
    "X"
   ]
  },
  {
   "cell_type": "code",
   "execution_count": 10,
   "metadata": {
    "collapsed": false
   },
   "outputs": [
    {
     "data": {
      "text/plain": [
       "array([[3.0, 1.0, 22.0],\n",
       "       [1.0, 0.0, 38.0],\n",
       "       [3.0, 0.0, 26.0],\n",
       "       ..., \n",
       "       [3.0, 0.0, 29.69911764705882],\n",
       "       [1.0, 1.0, 26.0],\n",
       "       [3.0, 1.0, 32.0]], dtype=object)"
      ]
     },
     "execution_count": 10,
     "metadata": {},
     "output_type": "execute_result"
    }
   ],
   "source": [
    "from sklearn.preprocessing import Imputer\n",
    "\n",
    "imputer = Imputer(missing_values = 'NaN' , strategy=\"mean\" , axis=0)\n",
    "imputer = imputer.fit(X[:,:])\n",
    "X[:,:] = imputer.transform(X[:,:])\n",
    "X"
   ]
  },
  {
   "cell_type": "code",
   "execution_count": 11,
   "metadata": {
    "collapsed": false
   },
   "outputs": [
    {
     "data": {
      "image/png": "[encoded data removed]",
      "text/plain": [
       "<matplotlib.figure.Figure at 0x7fd99ba52190>"
      ]
     },
     "metadata": {},
     "output_type": "display_data"
    }
   ],
   "source": [
    "for i in xrange(Y.shape[0]):\n",
    "    c = 'green'\n",
    "    if Y[i] == 0:\n",
    "        c = 'red'\n",
    "    plt.scatter(X[i,0] , X[i,1] , color = c)\n",
    "plt.xlabel('the passengar class')\n",
    "plt.ylabel('the gender')\n",
    "plt.legend()\n",
    "plt.show()"
   ]
  },
  {
   "cell_type": "markdown",
   "metadata": {},
   "source": [
    "شتلاحضون\n",
    "الركاب بالمقصورات الاولى نسبة نجاتهم اكثر من المقصورات الدرجات الاقل منهم\n",
    "\n",
    "\n",
    "\n",
    "خل نجرب ناخذ بعد خصائص"
   ]
  },
  {
   "cell_type": "markdown",
   "metadata": {},
   "source": [
    "من الرسم هذا نلاحظ شغلة  عدد النساء \n",
    "او جندر امراءة اي كان طفلة شابة متزوجه المهم جنسها \n",
    "هنا نسبة نجاتهن اكثر من الرجال\n",
    "\n",
    "هسه فهمنا انو البيانات الي اختارينها مؤثره\n",
    "طبعا اكو بعد بيانات بس انت لازم تدرس بياناتكم المهم وتعرف تاثيرهن خل نكمل برمجة"
   ]
  },
  {
   "cell_type": "code",
   "execution_count": 13,
   "metadata": {
    "collapsed": false
   },
   "outputs": [
    {
     "data": {
      "text/plain": [
       "array([3.0, 1.0, 22.0], dtype=object)"
      ]
     },
     "execution_count": 13,
     "metadata": {},
     "output_type": "execute_result"
    }
   ],
   "source": [
    "X[0]"
   ]
  },
  {
   "cell_type": "code",
   "execution_count": 14,
   "metadata": {
    "collapsed": false
   },
   "outputs": [
    {
     "data": {
      "text/plain": [
       "array([  0.,   0.,   1.,   1.,  22.])"
      ]
     },
     "execution_count": 14,
     "metadata": {},
     "output_type": "execute_result"
    }
   ],
   "source": [
    "from mamonAnn import mamonAnn , catgoricl , normalize , cost\n",
    "\n",
    "X = catgoricl(X , 0)\n",
    "X[0]"
   ]
  },
  {
   "cell_type": "markdown",
   "metadata": {},
   "source": [
    "حولت الداتا الي هيه من نوع كاتجوريكال\n",
    "الى دمي فايربل\n",
    "يعني لو عندي كتجوركل بهلشكل\n",
    "a b c\n",
    "0 1 0\n",
    "يعني هاي من نوع بي\n",
    "طبعا هسه لازم اسحب عنصر لان معادلة الاحتساب تضيف قيمة فلاطب بالدمي تراب اسحب عنصر اشفته\n"
   ]
  },
  {
   "cell_type": "code",
   "execution_count": 15,
   "metadata": {
    "collapsed": false
   },
   "outputs": [
    {
     "data": {
      "text/plain": [
       "array([  0.,   1.,   1.,  22.])"
      ]
     },
     "execution_count": 15,
     "metadata": {},
     "output_type": "execute_result"
    }
   ],
   "source": [
    "X = X[:,1:]\n",
    "X[0]"
   ]
  },
  {
   "cell_type": "code",
   "execution_count": 16,
   "metadata": {
    "collapsed": false
   },
   "outputs": [
    {
     "data": {
      "text/plain": [
       "(891, 4)"
      ]
     },
     "execution_count": 16,
     "metadata": {},
     "output_type": "execute_result"
    }
   ],
   "source": [
    "X.shape"
   ]
  },
  {
   "cell_type": "code",
   "execution_count": 17,
   "metadata": {
    "collapsed": false
   },
   "outputs": [
    {
     "data": {
      "text/plain": [
       "array([-0.54629938, -0.47604546, -0.47604546,  0.99928678])"
      ]
     },
     "execution_count": 17,
     "metadata": {},
     "output_type": "execute_result"
    }
   ],
   "source": [
    "X = normalize(X)\n",
    "X[0]"
   ]
  },
  {
   "cell_type": "markdown",
   "metadata": {},
   "source": [
    "الي سويته  سكيل للداتا حتى تساوى نوع الريناجات بالقيم \n",
    "معادلة السكيلر  الي استخدمتها هيه المعدل على انحراف"
   ]
  },
  {
   "cell_type": "code",
   "execution_count": 18,
   "metadata": {
    "collapsed": false
   },
   "outputs": [
    {
     "data": {
      "text/plain": [
       "array([-0.54629938, -0.54629938, -0.54629938,  1.91258769])"
      ]
     },
     "execution_count": 18,
     "metadata": {},
     "output_type": "execute_result"
    }
   ],
   "source": [
    "X[3]"
   ]
  },
  {
   "cell_type": "code",
   "execution_count": 20,
   "metadata": {
    "collapsed": false
   },
   "outputs": [
    {
     "name": "stdout",
     "output_type": "stream",
     "text": [
      "[-0.54629938 -0.47604546 -0.47604546  0.85877895]\n",
      "[-0.54629938 -0.54629938 -0.54629938  1.54017995]\n"
     ]
    }
   ],
   "source": [
    "from sklearn.model_selection import train_test_split\n",
    "x_train , x_test , y_train , y_test = train_test_split(X,Y , test_size = 0.20 , random_state=0)\n",
    "print x_train[3]\n",
    "print x_test[3]"
   ]
  },
  {
   "cell_type": "code",
   "execution_count": 21,
   "metadata": {
    "collapsed": true
   },
   "outputs": [],
   "source": [
    "deep = mamonAnn()\n",
    "LL = []\n",
    "deep.Layers(4 , [6 , 8 , 3 ] , 1)\n"
   ]
  },
  {
   "cell_type": "markdown",
   "metadata": {},
   "source": [
    "lr     مقادر التعلم\n",
    "\n",
    ",batch ,  كل شكد ونسوي تعلم\n",
    "اني هنا حستخدم طريقة الري انفورسمينت\n",
    "يعني كل ايتم نتعلم عليه\n",
    "اكو طريقه اسمها الباتش واكو المني باتش يعني يقسم الى كل وجبة مثلا كل مية ايتم نتعلم \n",
    "reg ,  معامل الريجولايرايزيشن\n",
    "\n",
    "factive , mid , last ,  هنا طرق الاكتفيشن فنكشن\n",
    "\n",
    "LL  هاي مصفوفة اخلي بيها قيم الارور  اني هنا استخدم معادلة اسمه الكروس انتروبي\n",
    "الي هيه سالب معدل لوغارتمات الهدف والبردكشن نشوفها اوضح"
   ]
  },
  {
   "cell_type": "code",
   "execution_count": 32,
   "metadata": {
    "collapsed": false
   },
   "outputs": [
    {
     "name": "stdout",
     "output_type": "stream",
     "text": [
      "1.39649012727\n"
     ]
    },
    {
     "name": "stderr",
     "output_type": "stream",
     "text": [
      "mamonAnn.py:160: RuntimeWarning: invalid value encountered in log\n",
      "  return -np.mean(T*np.log(Y) + (1-T)*np.log(1-Y))\n",
      "mamonAnn.py:160: RuntimeWarning: divide by zero encountered in log\n",
      "  return -np.mean(T*np.log(Y) + (1-T)*np.log(1-Y))\n",
      "mamonAnn.py:160: RuntimeWarning: invalid value encountered in multiply\n",
      "  return -np.mean(T*np.log(Y) + (1-T)*np.log(1-Y))\n"
     ]
    },
    {
     "name": "stdout",
     "output_type": "stream",
     "text": [
      "nan\n",
      "nan\n"
     ]
    },
    {
     "ename": "KeyboardInterrupt",
     "evalue": "",
     "output_type": "error",
     "traceback": [
      "\u001b[0;31m---------------------------------------------------------------------------\u001b[0m",
      "\u001b[0;31mKeyboardInterrupt\u001b[0m                         Traceback (most recent call last)",
      "\u001b[0;32m<ipython-input-32-63679e2fc8b1>\u001b[0m in \u001b[0;36m<module>\u001b[0;34m()\u001b[0m\n\u001b[0;32m----> 1\u001b[0;31m \u001b[0mdeep\u001b[0m\u001b[0;34m.\u001b[0m\u001b[0mfit\u001b[0m\u001b[0;34m(\u001b[0m\u001b[0mx_train\u001b[0m \u001b[0;34m,\u001b[0m \u001b[0my_train\u001b[0m \u001b[0;34m,\u001b[0m \u001b[0;36m600\u001b[0m \u001b[0;34m,\u001b[0m \u001b[0;36m100\u001b[0m \u001b[0;34m,\u001b[0m \u001b[0;36m0.003\u001b[0m \u001b[0;34m,\u001b[0m\u001b[0;36m1\u001b[0m \u001b[0;34m,\u001b[0m \u001b[0;36m0.0005\u001b[0m \u001b[0;34m,\u001b[0m\u001b[0;34m'sigmoid'\u001b[0m \u001b[0;34m,\u001b[0m \u001b[0;34m'sigmoid'\u001b[0m \u001b[0;34m,\u001b[0m\u001b[0;34m'relu'\u001b[0m \u001b[0;34m,\u001b[0m \u001b[0mLL\u001b[0m \u001b[0;34m)\u001b[0m\u001b[0;34m\u001b[0m\u001b[0m\n\u001b[0m\u001b[1;32m      2\u001b[0m \u001b[0;34m\u001b[0m\u001b[0m\n\u001b[1;32m      3\u001b[0m \u001b[0mplt\u001b[0m\u001b[0;34m.\u001b[0m\u001b[0mplot\u001b[0m\u001b[0;34m(\u001b[0m\u001b[0mLL\u001b[0m\u001b[0;34m)\u001b[0m\u001b[0;34m\u001b[0m\u001b[0m\n\u001b[1;32m      4\u001b[0m \u001b[0mplt\u001b[0m\u001b[0;34m.\u001b[0m\u001b[0mshow\u001b[0m\u001b[0;34m(\u001b[0m\u001b[0;34m)\u001b[0m\u001b[0;34m\u001b[0m\u001b[0m\n",
      "\u001b[0;32m/media/devops/70D01517D014E55E/importent cosrese mamon/test-my-skille/titanice-machine-learning-classification/mamonAnn.py\u001b[0m in \u001b[0;36mfit\u001b[0;34m(self, X, T, forlong, prnt, lr, batch, reg, factive, mid, last, LL)\u001b[0m\n\u001b[1;32m     77\u001b[0m             \u001b[0mY_old\u001b[0m \u001b[0;34m=\u001b[0m \u001b[0mself\u001b[0m\u001b[0;34m.\u001b[0m\u001b[0mout\u001b[0m\u001b[0;34m\u001b[0m\u001b[0m\n\u001b[1;32m     78\u001b[0m             \u001b[0;31m#if i % batch == 0:\u001b[0m\u001b[0;34m\u001b[0m\u001b[0;34m\u001b[0m\u001b[0m\n\u001b[0;32m---> 79\u001b[0;31m             \u001b[0mself\u001b[0m\u001b[0;34m.\u001b[0m\u001b[0mback_train\u001b[0m\u001b[0;34m(\u001b[0m\u001b[0mX\u001b[0m \u001b[0;34m,\u001b[0m \u001b[0mT\u001b[0m\u001b[0;34m,\u001b[0m\u001b[0mlr\u001b[0m \u001b[0;34m,\u001b[0m\u001b[0mreg\u001b[0m\u001b[0;34m)\u001b[0m\u001b[0;34m\u001b[0m\u001b[0m\n\u001b[0m\u001b[1;32m     80\u001b[0m             \u001b[0;31m#if np.array_equal(self.out,Y_old):\u001b[0m\u001b[0;34m\u001b[0m\u001b[0;34m\u001b[0m\u001b[0m\n\u001b[1;32m     81\u001b[0m                 \u001b[0;31m#print(\"cant improve more itration num is \",trn)\u001b[0m\u001b[0;34m\u001b[0m\u001b[0;34m\u001b[0m\u001b[0m\n",
      "\u001b[0;32m/media/devops/70D01517D014E55E/importent cosrese mamon/test-my-skille/titanice-machine-learning-classification/mamonAnn.py\u001b[0m in \u001b[0;36mback_train\u001b[0;34m(self, X, T, lr, reg)\u001b[0m\n\u001b[1;32m     58\u001b[0m             \u001b[0;32melse\u001b[0m\u001b[0;34m:\u001b[0m\u001b[0;34m\u001b[0m\u001b[0m\n\u001b[1;32m     59\u001b[0m                 \u001b[0min_layer\u001b[0m \u001b[0;34m=\u001b[0m \u001b[0mself\u001b[0m\u001b[0;34m.\u001b[0m\u001b[0mhedins\u001b[0m\u001b[0;34m[\u001b[0m\u001b[0mi\u001b[0m\u001b[0;34m-\u001b[0m\u001b[0;36m1\u001b[0m\u001b[0;34m]\u001b[0m\u001b[0;34m\u001b[0m\u001b[0m\n\u001b[0;32m---> 60\u001b[0;31m             \u001b[0mS_flayer\u001b[0m \u001b[0;34m=\u001b[0m \u001b[0mS_anylayer\u001b[0m\u001b[0;34m(\u001b[0m\u001b[0mself\u001b[0m\u001b[0;34m.\u001b[0m\u001b[0mhedins\u001b[0m\u001b[0;34m[\u001b[0m\u001b[0mi\u001b[0m\u001b[0;34m]\u001b[0m \u001b[0;34m,\u001b[0m \u001b[0mW2\u001b[0m \u001b[0;34m,\u001b[0m \u001b[0mS_y\u001b[0m\u001b[0;34m)\u001b[0m\u001b[0;34m\u001b[0m\u001b[0m\n\u001b[0m\u001b[1;32m     61\u001b[0m             \u001b[0mself\u001b[0m\u001b[0;34m.\u001b[0m\u001b[0mW\u001b[0m\u001b[0;34m[\u001b[0m\u001b[0mi\u001b[0m\u001b[0;34m]\u001b[0m \u001b[0;34m+=\u001b[0m \u001b[0mlr\u001b[0m \u001b[0;34m*\u001b[0m\u001b[0;34m(\u001b[0m\u001b[0min_layer\u001b[0m\u001b[0;34m.\u001b[0m\u001b[0mT\u001b[0m\u001b[0;34m.\u001b[0m\u001b[0mdot\u001b[0m\u001b[0;34m(\u001b[0m\u001b[0mS_flayer\u001b[0m\u001b[0;34m)\u001b[0m  \u001b[0;34m-\u001b[0m \u001b[0mregularization\u001b[0m \u001b[0;34m*\u001b[0m \u001b[0mself\u001b[0m\u001b[0;34m.\u001b[0m\u001b[0mW\u001b[0m\u001b[0;34m[\u001b[0m\u001b[0mi\u001b[0m\u001b[0;34m]\u001b[0m  \u001b[0;34m)\u001b[0m\u001b[0;31m#delta_Fast(lr ,T , self.out , in_layer, 'any' ,  self.hedins[i] , W2)\u001b[0m\u001b[0;34m\u001b[0m\u001b[0m\n\u001b[1;32m     62\u001b[0m             \u001b[0mself\u001b[0m\u001b[0;34m.\u001b[0m\u001b[0mb\u001b[0m\u001b[0;34m[\u001b[0m\u001b[0mi\u001b[0m\u001b[0;34m]\u001b[0m \u001b[0;34m+=\u001b[0m \u001b[0mlr\u001b[0m\u001b[0;34m*\u001b[0m\u001b[0;34m(\u001b[0m\u001b[0mS_flayer\u001b[0m\u001b[0;34m.\u001b[0m\u001b[0msum\u001b[0m\u001b[0;34m(\u001b[0m\u001b[0maxis\u001b[0m\u001b[0;34m=\u001b[0m\u001b[0;36m0\u001b[0m\u001b[0;34m)\u001b[0m  \u001b[0;34m-\u001b[0m \u001b[0mregularization\u001b[0m \u001b[0;34m*\u001b[0m \u001b[0mself\u001b[0m\u001b[0;34m.\u001b[0m\u001b[0mb\u001b[0m\u001b[0;34m[\u001b[0m\u001b[0mi\u001b[0m\u001b[0;34m]\u001b[0m  \u001b[0;34m)\u001b[0m\u001b[0;34m\u001b[0m\u001b[0m\n",
      "\u001b[0;32m/media/devops/70D01517D014E55E/importent cosrese mamon/test-my-skille/titanice-machine-learning-classification/mamonAnn.py\u001b[0m in \u001b[0;36mS_anylayer\u001b[0;34m(layer, layer_w, next_s)\u001b[0m\n\u001b[1;32m    136\u001b[0m                     \u001b[0mcoz\u001b[0m \u001b[0;34m=\u001b[0m \u001b[0mdos\u001b[0m \u001b[0;34m+\u001b[0m \u001b[0mS\u001b[0m\u001b[0;34m[\u001b[0m\u001b[0mk\u001b[0m\u001b[0;34m,\u001b[0m\u001b[0mi\u001b[0m\u001b[0;34m]\u001b[0m\u001b[0;34m\u001b[0m\u001b[0m\n\u001b[1;32m    137\u001b[0m                     \u001b[0mS\u001b[0m\u001b[0;34m[\u001b[0m\u001b[0mk\u001b[0m\u001b[0;34m,\u001b[0m\u001b[0mi\u001b[0m\u001b[0;34m]\u001b[0m \u001b[0;34m=\u001b[0m \u001b[0mcoz\u001b[0m\u001b[0;34m\u001b[0m\u001b[0m\n\u001b[0;32m--> 138\u001b[0;31m                 \u001b[0mjoso\u001b[0m \u001b[0;34m=\u001b[0m \u001b[0mS\u001b[0m\u001b[0;34m[\u001b[0m\u001b[0mk\u001b[0m\u001b[0;34m,\u001b[0m\u001b[0mi\u001b[0m\u001b[0;34m]\u001b[0m \u001b[0;34m*\u001b[0m \u001b[0mF_hate\u001b[0m\u001b[0;34m(\u001b[0m\u001b[0mlayer\u001b[0m\u001b[0;34m[\u001b[0m\u001b[0mk\u001b[0m\u001b[0;34m,\u001b[0m\u001b[0mi\u001b[0m\u001b[0;34m]\u001b[0m\u001b[0;34m)\u001b[0m\u001b[0;34m\u001b[0m\u001b[0m\n\u001b[0m\u001b[1;32m    139\u001b[0m                 \u001b[0mS\u001b[0m\u001b[0;34m[\u001b[0m\u001b[0mk\u001b[0m\u001b[0;34m,\u001b[0m\u001b[0mi\u001b[0m\u001b[0;34m]\u001b[0m \u001b[0;34m=\u001b[0m \u001b[0mjoso\u001b[0m\u001b[0;34m\u001b[0m\u001b[0m\n\u001b[1;32m    140\u001b[0m     \u001b[0;32mreturn\u001b[0m \u001b[0mS\u001b[0m\u001b[0;34m\u001b[0m\u001b[0m\n",
      "\u001b[0;31mKeyboardInterrupt\u001b[0m: "
     ]
    }
   ],
   "source": [
    "deep.fit(x_train , y_train , 600 , 100 , 0.003 ,1 , 0.0005 ,'sigmoid' , 'tanh' ,'sigmoid' , LL )\n",
    "\n",
    "plt.plot(LL)\n",
    "plt.show()"
   ]
  },
  {
   "cell_type": "code",
   "execution_count": 27,
   "metadata": {
    "collapsed": false
   },
   "outputs": [
    {
     "data": {
      "text/plain": [
       "0.6165730337078652"
      ]
     },
     "execution_count": 27,
     "metadata": {},
     "output_type": "execute_result"
    },
    {
     "name": "stdout",
     "output_type": "stream",
     "text": [
      "\n"
     ]
    }
   ],
   "source": [
    "rate = np.mean(deep.out.round() == y_train)\n",
    "rate"
   ]
  },
  {
   "cell_type": "code",
   "execution_count": 29,
   "metadata": {
    "collapsed": false
   },
   "outputs": [],
   "source": [
    "deep.farowrds(x_test , 'sigmoid' , 'tanh' , 'sigmoid')"
   ]
  },
  {
   "cell_type": "code",
   "execution_count": 30,
   "metadata": {
    "collapsed": false
   },
   "outputs": [
    {
     "data": {
      "text/plain": [
       "array([[ 0.38353818],\n",
       "       [ 0.38353818],\n",
       "       [ 0.3859806 ],\n",
       "       [ 0.38362766],\n",
       "       [ 0.38361245],\n",
       "       [ 0.38362029],\n",
       "       [ 0.38272473],\n",
       "       [ 0.38350733],\n",
       "       [ 0.38408307],\n",
       "       [ 0.38354756],\n",
       "       [ 0.3838974 ],\n",
       "       [ 0.38255932],\n",
       "       [ 0.38353818],\n",
       "       [ 0.38586553],\n",
       "       [ 0.3841776 ],\n",
       "       [ 0.38513923],\n",
       "       [ 0.38420038],\n",
       "       [ 0.38454172],\n",
       "       [ 0.38305036],\n",
       "       [ 0.38677184],\n",
       "       [ 0.38465054],\n",
       "       [ 0.38437948],\n",
       "       [ 0.38353818],\n",
       "       [ 0.38362029],\n",
       "       [ 0.3842932 ],\n",
       "       [ 0.38272473],\n",
       "       [ 0.38332262],\n",
       "       [ 0.3842932 ],\n",
       "       [ 0.38391119],\n",
       "       [ 0.38651804],\n",
       "       [ 0.38323078],\n",
       "       [ 0.38178552],\n",
       "       [ 0.38370122],\n",
       "       [ 0.38362029],\n",
       "       [ 0.38360486],\n",
       "       [ 0.3834029 ],\n",
       "       [ 0.38236972],\n",
       "       [ 0.38361447],\n",
       "       [ 0.38391292],\n",
       "       [ 0.38143368],\n",
       "       [ 0.38116519],\n",
       "       [ 0.38399723],\n",
       "       [ 0.38353818],\n",
       "       [ 0.38517056],\n",
       "       [ 0.38314904],\n",
       "       [ 0.38353818],\n",
       "       [ 0.38353818],\n",
       "       [ 0.38479685],\n",
       "       [ 0.38260921],\n",
       "       [ 0.38173834],\n",
       "       [ 0.38362029],\n",
       "       [ 0.38428779],\n",
       "       [ 0.38621856],\n",
       "       [ 0.38462054],\n",
       "       [ 0.38362029],\n",
       "       [ 0.38401478],\n",
       "       [ 0.38102863],\n",
       "       [ 0.3854735 ],\n",
       "       [ 0.38562843],\n",
       "       [ 0.38353818],\n",
       "       [ 0.3843037 ],\n",
       "       [ 0.38361245],\n",
       "       [ 0.38165571],\n",
       "       [ 0.38362029],\n",
       "       [ 0.38380117],\n",
       "       [ 0.38332262],\n",
       "       [ 0.38201947],\n",
       "       [ 0.38361447],\n",
       "       [ 0.38645636],\n",
       "       [ 0.38469083],\n",
       "       [ 0.38401054],\n",
       "       [ 0.38204256],\n",
       "       [ 0.38378468],\n",
       "       [ 0.38353818],\n",
       "       [ 0.38404758],\n",
       "       [ 0.3834322 ],\n",
       "       [ 0.38471098],\n",
       "       [ 0.38269161],\n",
       "       [ 0.38314003],\n",
       "       [ 0.38345017],\n",
       "       [ 0.38353818],\n",
       "       [ 0.38574507],\n",
       "       [ 0.38381303],\n",
       "       [ 0.38494739],\n",
       "       [ 0.38203579],\n",
       "       [ 0.38448213],\n",
       "       [ 0.38256184],\n",
       "       [ 0.38098725],\n",
       "       [ 0.38306992],\n",
       "       [ 0.38481958],\n",
       "       [ 0.38362029],\n",
       "       [ 0.38462054],\n",
       "       [ 0.38639474],\n",
       "       [ 0.38240261],\n",
       "       [ 0.38570078],\n",
       "       [ 0.38353818],\n",
       "       [ 0.38401054],\n",
       "       [ 0.38494739],\n",
       "       [ 0.38116519],\n",
       "       [ 0.38388299],\n",
       "       [ 0.38517056],\n",
       "       [ 0.38143368],\n",
       "       [ 0.38462054],\n",
       "       [ 0.3847284 ],\n",
       "       [ 0.38361245],\n",
       "       [ 0.38307317],\n",
       "       [ 0.38362026],\n",
       "       [ 0.3825716 ],\n",
       "       [ 0.38391292],\n",
       "       [ 0.38354756],\n",
       "       [ 0.38197454],\n",
       "       [ 0.38437948],\n",
       "       [ 0.38332262],\n",
       "       [ 0.38354756],\n",
       "       [ 0.38303887],\n",
       "       [ 0.38362026],\n",
       "       [ 0.38409292],\n",
       "       [ 0.38479685],\n",
       "       [ 0.3826176 ],\n",
       "       [ 0.38216132],\n",
       "       [ 0.38353818],\n",
       "       [ 0.38353818],\n",
       "       [ 0.38451379],\n",
       "       [ 0.38286322],\n",
       "       [ 0.38323078],\n",
       "       [ 0.38130434],\n",
       "       [ 0.38353818],\n",
       "       [ 0.38399723],\n",
       "       [ 0.38345017],\n",
       "       [ 0.38165338],\n",
       "       [ 0.38439508],\n",
       "       [ 0.38440818],\n",
       "       [ 0.38399723],\n",
       "       [ 0.38449809],\n",
       "       [ 0.38089459],\n",
       "       [ 0.38440818],\n",
       "       [ 0.38353818],\n",
       "       [ 0.38265275],\n",
       "       [ 0.38219487],\n",
       "       [ 0.38411783],\n",
       "       [ 0.38361447],\n",
       "       [ 0.38332601],\n",
       "       [ 0.38353818],\n",
       "       [ 0.38470749],\n",
       "       [ 0.3834602 ],\n",
       "       [ 0.38409292],\n",
       "       [ 0.38342143],\n",
       "       [ 0.38239729],\n",
       "       [ 0.38194524],\n",
       "       [ 0.38353818],\n",
       "       [ 0.38227929],\n",
       "       [ 0.3835198 ],\n",
       "       [ 0.38290199],\n",
       "       [ 0.38360486],\n",
       "       [ 0.38473846],\n",
       "       [ 0.38381224],\n",
       "       [ 0.38225608],\n",
       "       [ 0.38087983],\n",
       "       [ 0.38354756],\n",
       "       [ 0.38666655],\n",
       "       [ 0.38353818],\n",
       "       [ 0.38451379],\n",
       "       [ 0.38165571],\n",
       "       [ 0.38324855],\n",
       "       [ 0.38505847],\n",
       "       [ 0.38399723],\n",
       "       [ 0.38174736],\n",
       "       [ 0.3843037 ],\n",
       "       [ 0.38409822],\n",
       "       [ 0.38483736],\n",
       "       [ 0.38174736],\n",
       "       [ 0.38289144],\n",
       "       [ 0.38353818],\n",
       "       [ 0.38353818],\n",
       "       [ 0.38524972],\n",
       "       [ 0.38353818],\n",
       "       [ 0.38350733],\n",
       "       [ 0.38420038],\n",
       "       [ 0.38462054]])"
      ]
     },
     "execution_count": 30,
     "metadata": {},
     "output_type": "execute_result"
    }
   ],
   "source": [
    "deep.out"
   ]
  },
  {
   "cell_type": "code",
   "execution_count": 31,
   "metadata": {
    "collapsed": false
   },
   "outputs": [
    {
     "data": {
      "text/plain": [
       "0.61452513966480449"
      ]
     },
     "execution_count": 31,
     "metadata": {},
     "output_type": "execute_result"
    }
   ],
   "source": [
    "rate = np.mean(deep.out.round() == y_test)\n",
    "rate"
   ]
  },
  {
   "cell_type": "markdown",
   "metadata": {},
   "source": [
    "هنا نخلص\n",
    "نسبة التخمين 61 بالمية طبعا اكو تحسينات تكدر تسويها \n",
    "اولا واهم شي اختيار الخصائص الصحيحة\n",
    "\n",
    "ثانيا تعديل معمارية النيورال يعني هسه مثال انطيك"
   ]
  },
  {
   "cell_type": "code",
   "execution_count": null,
   "metadata": {
    "collapsed": true
   },
   "outputs": [],
   "source": [
    "aفت شون شمرت زايد الدالة بس غيرنا الاكتفيشن فنكشن صارت مو خوش نتائج \n",
    "نكدر نغير قيم التعلم او معامرية النيورال\n",
    "واحسن شي نسوي  نسوي \n",
    "grid search\n",
    "يعني نخلي اكثر من قيم ومعمارية وندخلهن لوب والحاسبة تجرب لحد متلكى الافضل\n",
    "\n",
    "تحياتي الكم"
   ]
  }
 ],
 "metadata": {
  "kernelspec": {
   "display_name": "Python 2",
   "language": "python",
   "name": "python2"
  },
  "language_info": {
   "codemirror_mode": {
    "name": "ipython",
    "version": 2
   },
   "file_extension": ".py",
   "mimetype": "text/x-python",
   "name": "python",
   "nbconvert_exporter": "python",
   "pygments_lexer": "ipython2",
   "version": "2.7.12"
  }
 },
 "nbformat": 4,
 "nbformat_minor": 2
}
